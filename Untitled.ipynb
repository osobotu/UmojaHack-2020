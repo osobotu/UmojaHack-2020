{
 "cells": [
  {
   "cell_type": "code",
   "execution_count": 1,
   "metadata": {},
   "outputs": [],
   "source": [
    "import pandas as pd\n",
    "import numpy as np\n",
    "import datetime\n",
    "\n",
    "import seaborn as sns\n",
    "import matplotlib.pyplot as plt\n",
    "\n",
    "from sklearn.model_selection import train_test_split"
   ]
  },
  {
   "cell_type": "code",
   "execution_count": 2,
   "metadata": {},
   "outputs": [],
   "source": [
    "root_path = \"C:/Users/USER/Desktop/umojahack/\"\n",
    "train = pd.read_csv(root_path + 'Train.csv')\n",
    "test = pd.read_csv(root_path + 'Test.csv')\n",
    "ss = pd.read_csv(root_path + 'SampleSubmission.csv')\n",
    "variable_def = pd.read_csv(root_path + 'VariableDefinitions_-_Sheet1.csv')"
   ]
  },
  {
   "cell_type": "code",
   "execution_count": 3,
   "metadata": {},
   "outputs": [
    {
     "name": "stdout",
     "output_type": "stream",
     "text": [
      "all_data size is : (17256, 14)\n"
     ]
    }
   ],
   "source": [
    "# join train and test together\n",
    "ntrain = train.shape[0]\n",
    "ntest = test.shape[0]\n",
    "\n",
    "all_data = pd.concat((train, test)).reset_index(drop=True)\n",
    "print(\"all_data size is : {}\".format(all_data.shape))"
   ]
  },
  {
   "cell_type": "code",
   "execution_count": 7,
   "metadata": {},
   "outputs": [
    {
     "data": {
      "text/plain": [
       "['ID',\n",
       " 'Gender',\n",
       " 'Car_Category',\n",
       " 'Subject_Car_Colour',\n",
       " 'Subject_Car_Make',\n",
       " 'LGA_Name',\n",
       " 'State',\n",
       " 'ProductName']"
      ]
     },
     "execution_count": 7,
     "metadata": {},
     "output_type": "execute_result"
    }
   ],
   "source": [
    "date_col = ['Policy Start Date','Policy End Date', 'First Transaction Date']\n",
    "num_col = ['Age', 'No_Pol']\n",
    "cat_col = [col for col in test.columns if col not in date_col+num_col]\n",
    "cat_col"
   ]
  },
  {
   "cell_type": "code",
   "execution_count": 8,
   "metadata": {},
   "outputs": [],
   "source": [
    "cat_col.remove('ID')"
   ]
  },
  {
   "cell_type": "code",
   "execution_count": 9,
   "metadata": {},
   "outputs": [
    {
     "data": {
      "text/html": [
       "<div>\n",
       "<style scoped>\n",
       "    .dataframe tbody tr th:only-of-type {\n",
       "        vertical-align: middle;\n",
       "    }\n",
       "\n",
       "    .dataframe tbody tr th {\n",
       "        vertical-align: top;\n",
       "    }\n",
       "\n",
       "    .dataframe thead th {\n",
       "        text-align: right;\n",
       "    }\n",
       "</style>\n",
       "<table border=\"1\" class=\"dataframe\">\n",
       "  <thead>\n",
       "    <tr style=\"text-align: right;\">\n",
       "      <th></th>\n",
       "      <th>ID</th>\n",
       "      <th>Policy Start Date</th>\n",
       "      <th>Policy End Date</th>\n",
       "      <th>Gender</th>\n",
       "      <th>Age</th>\n",
       "      <th>First Transaction Date</th>\n",
       "      <th>No_Pol</th>\n",
       "      <th>Car_Category</th>\n",
       "      <th>Subject_Car_Colour</th>\n",
       "      <th>Subject_Car_Make</th>\n",
       "      <th>LGA_Name</th>\n",
       "      <th>State</th>\n",
       "      <th>ProductName</th>\n",
       "      <th>target</th>\n",
       "    </tr>\n",
       "  </thead>\n",
       "  <tbody>\n",
       "    <tr>\n",
       "      <th>0</th>\n",
       "      <td>0040R73</td>\n",
       "      <td>2010-05-14</td>\n",
       "      <td>2011-05-13</td>\n",
       "      <td>Male</td>\n",
       "      <td>30</td>\n",
       "      <td>2010-05-14</td>\n",
       "      <td>1</td>\n",
       "      <td>Saloon</td>\n",
       "      <td>Black</td>\n",
       "      <td>TOYOTA</td>\n",
       "      <td>9999</td>\n",
       "      <td>9999</td>\n",
       "      <td>Car Classic</td>\n",
       "      <td>0.0</td>\n",
       "    </tr>\n",
       "    <tr>\n",
       "      <th>1</th>\n",
       "      <td>0046BNK</td>\n",
       "      <td>2010-11-29</td>\n",
       "      <td>2011-11-28</td>\n",
       "      <td>Female</td>\n",
       "      <td>79</td>\n",
       "      <td>2010-11-29</td>\n",
       "      <td>1</td>\n",
       "      <td>JEEP</td>\n",
       "      <td>Grey</td>\n",
       "      <td>TOYOTA</td>\n",
       "      <td>9999</td>\n",
       "      <td>9999</td>\n",
       "      <td>Car Classic</td>\n",
       "      <td>1.0</td>\n",
       "    </tr>\n",
       "    <tr>\n",
       "      <th>2</th>\n",
       "      <td>005QMC3</td>\n",
       "      <td>2010-03-21</td>\n",
       "      <td>2011-03-20</td>\n",
       "      <td>Male</td>\n",
       "      <td>43</td>\n",
       "      <td>2010-03-21</td>\n",
       "      <td>1</td>\n",
       "      <td>Saloon</td>\n",
       "      <td>Red</td>\n",
       "      <td>TOYOTA</td>\n",
       "      <td>9999</td>\n",
       "      <td>9999</td>\n",
       "      <td>Car Classic</td>\n",
       "      <td>0.0</td>\n",
       "    </tr>\n",
       "    <tr>\n",
       "      <th>3</th>\n",
       "      <td>0079OHW</td>\n",
       "      <td>2010-08-21</td>\n",
       "      <td>2011-08-20</td>\n",
       "      <td>Male</td>\n",
       "      <td>2</td>\n",
       "      <td>2010-08-21</td>\n",
       "      <td>1</td>\n",
       "      <td>9999</td>\n",
       "      <td>9999</td>\n",
       "      <td>9999</td>\n",
       "      <td>9999</td>\n",
       "      <td>9999</td>\n",
       "      <td>CarSafe</td>\n",
       "      <td>0.0</td>\n",
       "    </tr>\n",
       "    <tr>\n",
       "      <th>4</th>\n",
       "      <td>00BRP63</td>\n",
       "      <td>2010-08-29</td>\n",
       "      <td>2010-12-31</td>\n",
       "      <td>Entity</td>\n",
       "      <td>20</td>\n",
       "      <td>2010-08-29</td>\n",
       "      <td>3</td>\n",
       "      <td>9999</td>\n",
       "      <td>9999</td>\n",
       "      <td>9999</td>\n",
       "      <td>Lagos</td>\n",
       "      <td>Lagos</td>\n",
       "      <td>Muuve</td>\n",
       "      <td>1.0</td>\n",
       "    </tr>\n",
       "  </tbody>\n",
       "</table>\n",
       "</div>"
      ],
      "text/plain": [
       "        ID Policy Start Date Policy End Date  Gender  Age  \\\n",
       "0  0040R73        2010-05-14      2011-05-13    Male   30   \n",
       "1  0046BNK        2010-11-29      2011-11-28  Female   79   \n",
       "2  005QMC3        2010-03-21      2011-03-20    Male   43   \n",
       "3  0079OHW        2010-08-21      2011-08-20    Male    2   \n",
       "4  00BRP63        2010-08-29      2010-12-31  Entity   20   \n",
       "\n",
       "  First Transaction Date  No_Pol Car_Category Subject_Car_Colour  \\\n",
       "0             2010-05-14       1       Saloon              Black   \n",
       "1             2010-11-29       1         JEEP               Grey   \n",
       "2             2010-03-21       1       Saloon                Red   \n",
       "3             2010-08-21       1         9999               9999   \n",
       "4             2010-08-29       3         9999               9999   \n",
       "\n",
       "  Subject_Car_Make LGA_Name  State  ProductName  target  \n",
       "0           TOYOTA     9999   9999  Car Classic     0.0  \n",
       "1           TOYOTA     9999   9999  Car Classic     1.0  \n",
       "2           TOYOTA     9999   9999  Car Classic     0.0  \n",
       "3             9999     9999   9999      CarSafe     0.0  \n",
       "4             9999    Lagos  Lagos        Muuve     1.0  "
      ]
     },
     "execution_count": 9,
     "metadata": {},
     "output_type": "execute_result"
    }
   ],
   "source": [
    "all_data = all_data.fillna(9999)\n",
    "all_data.head()"
   ]
  },
  {
   "cell_type": "code",
   "execution_count": 10,
   "metadata": {},
   "outputs": [],
   "source": [
    "for feat in date_col:\n",
    "    all_data[feat] = pd.to_datetime(all_data[feat])"
   ]
  },
  {
   "cell_type": "code",
   "execution_count": 16,
   "metadata": {},
   "outputs": [
    {
     "name": "stdout",
     "output_type": "stream",
     "text": [
      "<class 'pandas.core.frame.DataFrame'>\n",
      "RangeIndex: 17256 entries, 0 to 17255\n",
      "Data columns (total 24 columns):\n",
      " #   Column                          Non-Null Count  Dtype  \n",
      "---  ------                          --------------  -----  \n",
      " 0   ID                              17256 non-null  object \n",
      " 1   Gender                          17256 non-null  object \n",
      " 2   Age                             17256 non-null  int64  \n",
      " 3   No_Pol                          17256 non-null  int64  \n",
      " 4   Car_Category                    17256 non-null  object \n",
      " 5   Subject_Car_Colour              17256 non-null  object \n",
      " 6   Subject_Car_Make                17256 non-null  object \n",
      " 7   LGA_Name                        17256 non-null  object \n",
      " 8   State                           17256 non-null  object \n",
      " 9   ProductName                     17256 non-null  object \n",
      " 10  target                          17256 non-null  float64\n",
      " 11  Policy Duration                 17256 non-null  int64  \n",
      " 12  Policy Start Date_year          17256 non-null  int64  \n",
      " 13  Policy Start Date_day           17256 non-null  int64  \n",
      " 14  Policy Start Date_month         17256 non-null  int64  \n",
      " 15  Policy Start Date_quarter       17256 non-null  int64  \n",
      " 16  Policy End Date_year            17256 non-null  int64  \n",
      " 17  Policy End Date_day             17256 non-null  int64  \n",
      " 18  Policy End Date_month           17256 non-null  int64  \n",
      " 19  Policy End Date_quarter         17256 non-null  int64  \n",
      " 20  First Transaction Date_year     17256 non-null  int64  \n",
      " 21  First Transaction Date_day      17256 non-null  int64  \n",
      " 22  First Transaction Date_month    17256 non-null  int64  \n",
      " 23  First Transaction Date_quarter  17256 non-null  int64  \n",
      "dtypes: float64(1), int64(15), object(8)\n",
      "memory usage: 3.2+ MB\n"
     ]
    }
   ],
   "source": [
    "all_data.info()"
   ]
  },
  {
   "cell_type": "code",
   "execution_count": 12,
   "metadata": {},
   "outputs": [],
   "source": [
    "# create new column Policy_Duration = End date - Start date\n",
    "all_data['Policy Duration'] = all_data['Policy End Date'] - all_data['Policy Start Date']\n",
    "all_data['Policy Duration'] = all_data['Policy Duration'].dt.days"
   ]
  },
  {
   "cell_type": "code",
   "execution_count": 14,
   "metadata": {},
   "outputs": [],
   "source": [
    "def extract_date_info(df,cols,):\n",
    "    for feat in cols:\n",
    "        df[feat +'_year'] = df[feat].dt.year\n",
    "        df[feat +'_day'] = df[feat].dt.day\n",
    "        df[feat +'_month'] = df[feat].dt.month\n",
    "        df[feat +'_quarter'] = df[feat].dt.quarter\n",
    "    df.drop(columns=date_col,axis=1,inplace=True)"
   ]
  },
  {
   "cell_type": "code",
   "execution_count": 15,
   "metadata": {},
   "outputs": [],
   "source": [
    "extract_date_info(all_data,date_col)"
   ]
  },
  {
   "cell_type": "code",
   "execution_count": 17,
   "metadata": {},
   "outputs": [
    {
     "data": {
      "text/plain": [
       "ID                                0\n",
       "Gender                            0\n",
       "Age                               0\n",
       "No_Pol                            0\n",
       "Car_Category                      0\n",
       "Subject_Car_Colour                0\n",
       "Subject_Car_Make                  0\n",
       "LGA_Name                          0\n",
       "State                             0\n",
       "ProductName                       0\n",
       "target                            0\n",
       "Policy Duration                   0\n",
       "Policy Start Date_year            0\n",
       "Policy Start Date_day             0\n",
       "Policy Start Date_month           0\n",
       "Policy Start Date_quarter         0\n",
       "Policy End Date_year              0\n",
       "Policy End Date_day               0\n",
       "Policy End Date_month             0\n",
       "Policy End Date_quarter           0\n",
       "First Transaction Date_year       0\n",
       "First Transaction Date_day        0\n",
       "First Transaction Date_month      0\n",
       "First Transaction Date_quarter    0\n",
       "dtype: int64"
      ]
     },
     "execution_count": 17,
     "metadata": {},
     "output_type": "execute_result"
    }
   ],
   "source": [
    "all_data.isnull().sum()"
   ]
  },
  {
   "cell_type": "code",
   "execution_count": 19,
   "metadata": {},
   "outputs": [
    {
     "data": {
      "text/plain": [
       "['Gender',\n",
       " 'Car_Category',\n",
       " 'Subject_Car_Colour',\n",
       " 'Subject_Car_Make',\n",
       " 'LGA_Name',\n",
       " 'State',\n",
       " 'ProductName']"
      ]
     },
     "execution_count": 19,
     "metadata": {},
     "output_type": "execute_result"
    }
   ],
   "source": [
    "cat_col"
   ]
  },
  {
   "cell_type": "code",
   "execution_count": 29,
   "metadata": {},
   "outputs": [
    {
     "data": {
      "text/plain": [
       "<matplotlib.axes._subplots.AxesSubplot at 0x57c8661c48>"
      ]
     },
     "execution_count": 29,
     "metadata": {},
     "output_type": "execute_result"
    },
    {
     "data": {
      "image/png": "[encoded data removed]",
      "text/plain": [
       "<Figure size 432x288 with 1 Axes>"
      ]
     },
     "metadata": {
      "needs_background": "light"
     },
     "output_type": "display_data"
    }
   ],
   "source": [
    "sns.countplot(all_data.ProductName)"
   ]
  },
  {
   "cell_type": "code",
   "execution_count": 35,
   "metadata": {},
   "outputs": [],
   "source": [
    "from sklearn.preprocessing import LabelEncoder\n",
    "\n",
    "all_data_copy = all_data.copy()\n",
    "le = LabelEncoder()\n",
    "for col in cat_col:\n",
    "    all_data_copy[col] = le.fit_transform(all_data_copy[col].astype(str))\n",
    "\n",
    "# from sklearn.preprocessing import OneHotEncoder\n",
    "\n",
    "# OH_encoder = OneHotEncoder(handle_unknown='ignore', sparse=False)\n",
    "# OH_cols = pd.DataFrame(OH_encoder.fit_transform(all_data_copy[cat_col].astype(str)))"
   ]
  },
  {
   "cell_type": "code",
   "execution_count": 36,
   "metadata": {},
   "outputs": [
    {
     "data": {
      "text/html": [
       "<div>\n",
       "<style scoped>\n",
       "    .dataframe tbody tr th:only-of-type {\n",
       "        vertical-align: middle;\n",
       "    }\n",
       "\n",
       "    .dataframe tbody tr th {\n",
       "        vertical-align: top;\n",
       "    }\n",
       "\n",
       "    .dataframe thead th {\n",
       "        text-align: right;\n",
       "    }\n",
       "</style>\n",
       "<table border=\"1\" class=\"dataframe\">\n",
       "  <thead>\n",
       "    <tr style=\"text-align: right;\">\n",
       "      <th></th>\n",
       "      <th>ID</th>\n",
       "      <th>Gender</th>\n",
       "      <th>Age</th>\n",
       "      <th>No_Pol</th>\n",
       "      <th>Car_Category</th>\n",
       "      <th>Subject_Car_Colour</th>\n",
       "      <th>Subject_Car_Make</th>\n",
       "      <th>LGA_Name</th>\n",
       "      <th>State</th>\n",
       "      <th>ProductName</th>\n",
       "      <th>...</th>\n",
       "      <th>Policy Start Date_month</th>\n",
       "      <th>Policy Start Date_quarter</th>\n",
       "      <th>Policy End Date_year</th>\n",
       "      <th>Policy End Date_day</th>\n",
       "      <th>Policy End Date_month</th>\n",
       "      <th>Policy End Date_quarter</th>\n",
       "      <th>First Transaction Date_year</th>\n",
       "      <th>First Transaction Date_day</th>\n",
       "      <th>First Transaction Date_month</th>\n",
       "      <th>First Transaction Date_quarter</th>\n",
       "    </tr>\n",
       "  </thead>\n",
       "  <tbody>\n",
       "    <tr>\n",
       "      <th>0</th>\n",
       "      <td>0040R73</td>\n",
       "      <td>4</td>\n",
       "      <td>30</td>\n",
       "      <td>1</td>\n",
       "      <td>9</td>\n",
       "      <td>5</td>\n",
       "      <td>69</td>\n",
       "      <td>1</td>\n",
       "      <td>0</td>\n",
       "      <td>1</td>\n",
       "      <td>...</td>\n",
       "      <td>5</td>\n",
       "      <td>2</td>\n",
       "      <td>2011</td>\n",
       "      <td>13</td>\n",
       "      <td>5</td>\n",
       "      <td>2</td>\n",
       "      <td>2010</td>\n",
       "      <td>14</td>\n",
       "      <td>5</td>\n",
       "      <td>2</td>\n",
       "    </tr>\n",
       "    <tr>\n",
       "      <th>1</th>\n",
       "      <td>0046BNK</td>\n",
       "      <td>2</td>\n",
       "      <td>79</td>\n",
       "      <td>1</td>\n",
       "      <td>3</td>\n",
       "      <td>27</td>\n",
       "      <td>69</td>\n",
       "      <td>1</td>\n",
       "      <td>0</td>\n",
       "      <td>1</td>\n",
       "      <td>...</td>\n",
       "      <td>11</td>\n",
       "      <td>4</td>\n",
       "      <td>2011</td>\n",
       "      <td>28</td>\n",
       "      <td>11</td>\n",
       "      <td>4</td>\n",
       "      <td>2010</td>\n",
       "      <td>29</td>\n",
       "      <td>11</td>\n",
       "      <td>4</td>\n",
       "    </tr>\n",
       "    <tr>\n",
       "      <th>2</th>\n",
       "      <td>005QMC3</td>\n",
       "      <td>4</td>\n",
       "      <td>43</td>\n",
       "      <td>1</td>\n",
       "      <td>9</td>\n",
       "      <td>33</td>\n",
       "      <td>69</td>\n",
       "      <td>1</td>\n",
       "      <td>0</td>\n",
       "      <td>1</td>\n",
       "      <td>...</td>\n",
       "      <td>3</td>\n",
       "      <td>1</td>\n",
       "      <td>2011</td>\n",
       "      <td>20</td>\n",
       "      <td>3</td>\n",
       "      <td>1</td>\n",
       "      <td>2010</td>\n",
       "      <td>21</td>\n",
       "      <td>3</td>\n",
       "      <td>1</td>\n",
       "    </tr>\n",
       "    <tr>\n",
       "      <th>3</th>\n",
       "      <td>0079OHW</td>\n",
       "      <td>4</td>\n",
       "      <td>2</td>\n",
       "      <td>1</td>\n",
       "      <td>0</td>\n",
       "      <td>0</td>\n",
       "      <td>1</td>\n",
       "      <td>1</td>\n",
       "      <td>0</td>\n",
       "      <td>5</td>\n",
       "      <td>...</td>\n",
       "      <td>8</td>\n",
       "      <td>3</td>\n",
       "      <td>2011</td>\n",
       "      <td>20</td>\n",
       "      <td>8</td>\n",
       "      <td>3</td>\n",
       "      <td>2010</td>\n",
       "      <td>21</td>\n",
       "      <td>8</td>\n",
       "      <td>3</td>\n",
       "    </tr>\n",
       "    <tr>\n",
       "      <th>4</th>\n",
       "      <td>00BRP63</td>\n",
       "      <td>1</td>\n",
       "      <td>20</td>\n",
       "      <td>3</td>\n",
       "      <td>0</td>\n",
       "      <td>0</td>\n",
       "      <td>1</td>\n",
       "      <td>166</td>\n",
       "      <td>75</td>\n",
       "      <td>8</td>\n",
       "      <td>...</td>\n",
       "      <td>8</td>\n",
       "      <td>3</td>\n",
       "      <td>2010</td>\n",
       "      <td>31</td>\n",
       "      <td>12</td>\n",
       "      <td>4</td>\n",
       "      <td>2010</td>\n",
       "      <td>29</td>\n",
       "      <td>8</td>\n",
       "      <td>3</td>\n",
       "    </tr>\n",
       "  </tbody>\n",
       "</table>\n",
       "<p>5 rows × 24 columns</p>\n",
       "</div>"
      ],
      "text/plain": [
       "        ID  Gender  Age  No_Pol  Car_Category  Subject_Car_Colour  \\\n",
       "0  0040R73       4   30       1             9                   5   \n",
       "1  0046BNK       2   79       1             3                  27   \n",
       "2  005QMC3       4   43       1             9                  33   \n",
       "3  0079OHW       4    2       1             0                   0   \n",
       "4  00BRP63       1   20       3             0                   0   \n",
       "\n",
       "   Subject_Car_Make  LGA_Name  State  ProductName  ...  \\\n",
       "0                69         1      0            1  ...   \n",
       "1                69         1      0            1  ...   \n",
       "2                69         1      0            1  ...   \n",
       "3                 1         1      0            5  ...   \n",
       "4                 1       166     75            8  ...   \n",
       "\n",
       "   Policy Start Date_month  Policy Start Date_quarter  Policy End Date_year  \\\n",
       "0                        5                          2                  2011   \n",
       "1                       11                          4                  2011   \n",
       "2                        3                          1                  2011   \n",
       "3                        8                          3                  2011   \n",
       "4                        8                          3                  2010   \n",
       "\n",
       "   Policy End Date_day  Policy End Date_month  Policy End Date_quarter  \\\n",
       "0                   13                      5                        2   \n",
       "1                   28                     11                        4   \n",
       "2                   20                      3                        1   \n",
       "3                   20                      8                        3   \n",
       "4                   31                     12                        4   \n",
       "\n",
       "   First Transaction Date_year  First Transaction Date_day  \\\n",
       "0                         2010                          14   \n",
       "1                         2010                          29   \n",
       "2                         2010                          21   \n",
       "3                         2010                          21   \n",
       "4                         2010                          29   \n",
       "\n",
       "   First Transaction Date_month  First Transaction Date_quarter  \n",
       "0                             5                               2  \n",
       "1                            11                               4  \n",
       "2                             3                               1  \n",
       "3                             8                               3  \n",
       "4                             8                               3  \n",
       "\n",
       "[5 rows x 24 columns]"
      ]
     },
     "execution_count": 36,
     "metadata": {},
     "output_type": "execute_result"
    }
   ],
   "source": [
    "all_data_copy.head()"
   ]
  },
  {
   "cell_type": "code",
   "execution_count": 49,
   "metadata": {},
   "outputs": [
    {
     "data": {
      "text/plain": [
       "ID                                object\n",
       "Gender                             int32\n",
       "Age                                int64\n",
       "No_Pol                             int64\n",
       "Car_Category                       int32\n",
       "Subject_Car_Colour                 int32\n",
       "Subject_Car_Make                   int32\n",
       "LGA_Name                           int32\n",
       "State                              int32\n",
       "ProductName                        int32\n",
       "target                             int32\n",
       "Policy Duration                    int64\n",
       "Policy Start Date_year             int64\n",
       "Policy Start Date_day              int64\n",
       "Policy Start Date_month            int64\n",
       "Policy Start Date_quarter          int64\n",
       "Policy End Date_year               int64\n",
       "Policy End Date_day                int64\n",
       "Policy End Date_month              int64\n",
       "Policy End Date_quarter            int64\n",
       "First Transaction Date_year        int64\n",
       "First Transaction Date_day         int64\n",
       "First Transaction Date_month       int64\n",
       "First Transaction Date_quarter     int64\n",
       "dtype: object"
      ]
     },
     "execution_count": 49,
     "metadata": {},
     "output_type": "execute_result"
    }
   ],
   "source": [
    "all_data_copy.dtypes"
   ]
  },
  {
   "cell_type": "code",
   "execution_count": 53,
   "metadata": {},
   "outputs": [],
   "source": [
    "all_data_copy.drop(columns=['ID'],inplace=True, axis=1)"
   ]
  },
  {
   "cell_type": "markdown",
   "metadata": {},
   "source": [
    "Everything is now numerical...lets create ensembles"
   ]
  },
  {
   "cell_type": "code",
   "execution_count": 54,
   "metadata": {},
   "outputs": [],
   "source": [
    "all_data_copy.target = all_data_copy.target.astype(int)"
   ]
  },
  {
   "cell_type": "code",
   "execution_count": 55,
   "metadata": {},
   "outputs": [
    {
     "data": {
      "text/plain": [
       "Gender                            0\n",
       "Age                               0\n",
       "No_Pol                            0\n",
       "Car_Category                      0\n",
       "Subject_Car_Colour                0\n",
       "Subject_Car_Make                  0\n",
       "LGA_Name                          0\n",
       "State                             0\n",
       "ProductName                       0\n",
       "target                            0\n",
       "Policy Duration                   0\n",
       "Policy Start Date_year            0\n",
       "Policy Start Date_day             0\n",
       "Policy Start Date_month           0\n",
       "Policy Start Date_quarter         0\n",
       "Policy End Date_year              0\n",
       "Policy End Date_day               0\n",
       "Policy End Date_month             0\n",
       "Policy End Date_quarter           0\n",
       "First Transaction Date_year       0\n",
       "First Transaction Date_day        0\n",
       "First Transaction Date_month      0\n",
       "First Transaction Date_quarter    0\n",
       "dtype: int64"
      ]
     },
     "execution_count": 55,
     "metadata": {},
     "output_type": "execute_result"
    }
   ],
   "source": [
    "all_data_copy.isnull().sum()"
   ]
  },
  {
   "cell_type": "code",
   "execution_count": 56,
   "metadata": {},
   "outputs": [],
   "source": [
    "#Get the new dataset\n",
    "train_n = all_data_copy[:ntrain]\n",
    "test_n = all_data_copy[ntrain:]"
   ]
  },
  {
   "cell_type": "code",
   "execution_count": 57,
   "metadata": {},
   "outputs": [
    {
     "name": "stderr",
     "output_type": "stream",
     "text": [
      "C:\\Users\\USER\\anaconda3\\lib\\site-packages\\pandas\\core\\frame.py:3997: SettingWithCopyWarning: \n",
      "A value is trying to be set on a copy of a slice from a DataFrame\n",
      "\n",
      "See the caveats in the documentation: https://pandas.pydata.org/pandas-docs/stable/user_guide/indexing.html#returning-a-view-versus-a-copy\n",
      "  errors=errors,\n"
     ]
    }
   ],
   "source": [
    "test_n.drop(\"target\",axis = 1,inplace = True)"
   ]
  },
  {
   "cell_type": "code",
   "execution_count": 58,
   "metadata": {},
   "outputs": [],
   "source": [
    "X= train_n.drop(columns=['target'])\n",
    "y= train_n.target"
   ]
  },
  {
   "cell_type": "code",
   "execution_count": 59,
   "metadata": {},
   "outputs": [],
   "source": [
    "X_train, X_test, y_train, y_test = train_test_split(X,y,test_size=0.33, random_state=42,)"
   ]
  },
  {
   "cell_type": "code",
   "execution_count": 60,
   "metadata": {},
   "outputs": [
    {
     "data": {
      "text/plain": [
       "Index(['Gender', 'Age', 'No_Pol', 'Car_Category', 'Subject_Car_Colour',\n",
       "       'Subject_Car_Make', 'LGA_Name', 'State', 'ProductName',\n",
       "       'Policy Duration', 'Policy Start Date_year', 'Policy Start Date_day',\n",
       "       'Policy Start Date_month', 'Policy Start Date_quarter',\n",
       "       'Policy End Date_year', 'Policy End Date_day', 'Policy End Date_month',\n",
       "       'Policy End Date_quarter', 'First Transaction Date_year',\n",
       "       'First Transaction Date_day', 'First Transaction Date_month',\n",
       "       'First Transaction Date_quarter'],\n",
       "      dtype='object')"
      ]
     },
     "execution_count": 60,
     "metadata": {},
     "output_type": "execute_result"
    }
   ],
   "source": [
    "test_n.columns"
   ]
  },
  {
   "cell_type": "code",
   "execution_count": 61,
   "metadata": {},
   "outputs": [],
   "source": [
    "from catboost import CatBoostClassifier\n",
    "import catboost\n",
    "model = CatBoostClassifier(n_estimators=1500, verbose=50)"
   ]
  },
  {
   "cell_type": "code",
   "execution_count": 62,
   "metadata": {
    "scrolled": true
   },
   "outputs": [
    {
     "name": "stdout",
     "output_type": "stream",
     "text": [
      "Learning rate set to 0.017346\n",
      "0:\tlearn: 0.6761380\ttotal: 107ms\tremaining: 2m 40s\n",
      "50:\tlearn: 0.3612408\ttotal: 438ms\tremaining: 12.4s\n",
      "100:\tlearn: 0.3119831\ttotal: 707ms\tremaining: 9.79s\n",
      "150:\tlearn: 0.2961205\ttotal: 988ms\tremaining: 8.82s\n",
      "200:\tlearn: 0.2870629\ttotal: 1.26s\tremaining: 8.16s\n",
      "250:\tlearn: 0.2804852\ttotal: 1.59s\tremaining: 7.92s\n",
      "300:\tlearn: 0.2757330\ttotal: 1.87s\tremaining: 7.45s\n",
      "350:\tlearn: 0.2718143\ttotal: 2.16s\tremaining: 7.07s\n",
      "400:\tlearn: 0.2681491\ttotal: 2.44s\tremaining: 6.67s\n",
      "450:\tlearn: 0.2647670\ttotal: 2.74s\tremaining: 6.37s\n",
      "500:\tlearn: 0.2614686\ttotal: 3.02s\tremaining: 6.02s\n",
      "550:\tlearn: 0.2585301\ttotal: 3.29s\tremaining: 5.66s\n",
      "600:\tlearn: 0.2558772\ttotal: 3.6s\tremaining: 5.39s\n",
      "650:\tlearn: 0.2535371\ttotal: 3.88s\tremaining: 5.05s\n",
      "700:\tlearn: 0.2508749\ttotal: 4.19s\tremaining: 4.78s\n",
      "750:\tlearn: 0.2476982\ttotal: 4.59s\tremaining: 4.57s\n",
      "800:\tlearn: 0.2446480\ttotal: 4.92s\tremaining: 4.29s\n",
      "850:\tlearn: 0.2416850\ttotal: 5.2s\tremaining: 3.96s\n",
      "900:\tlearn: 0.2389055\ttotal: 5.51s\tremaining: 3.66s\n",
      "950:\tlearn: 0.2359693\ttotal: 5.85s\tremaining: 3.37s\n",
      "1000:\tlearn: 0.2331331\ttotal: 6.14s\tremaining: 3.06s\n",
      "1050:\tlearn: 0.2304558\ttotal: 6.46s\tremaining: 2.76s\n",
      "1100:\tlearn: 0.2282631\ttotal: 6.76s\tremaining: 2.45s\n",
      "1150:\tlearn: 0.2259434\ttotal: 7.08s\tremaining: 2.15s\n",
      "1200:\tlearn: 0.2236623\ttotal: 7.36s\tremaining: 1.83s\n",
      "1250:\tlearn: 0.2217123\ttotal: 7.65s\tremaining: 1.52s\n",
      "1300:\tlearn: 0.2192960\ttotal: 7.97s\tremaining: 1.22s\n",
      "1350:\tlearn: 0.2172585\ttotal: 8.52s\tremaining: 940ms\n",
      "1400:\tlearn: 0.2151151\ttotal: 8.98s\tremaining: 635ms\n",
      "1450:\tlearn: 0.2132007\ttotal: 9.29s\tremaining: 314ms\n",
      "1499:\tlearn: 0.2109637\ttotal: 9.68s\tremaining: 0us\n"
     ]
    },
    {
     "data": {
      "text/plain": [
       "<catboost.core.CatBoostClassifier at 0x57c268f748>"
      ]
     },
     "execution_count": 62,
     "metadata": {},
     "output_type": "execute_result"
    }
   ],
   "source": [
    "model.fit(X_train,y_train)"
   ]
  },
  {
   "cell_type": "code",
   "execution_count": 63,
   "metadata": {},
   "outputs": [],
   "source": [
    "y_pred = model.predict(X_train)"
   ]
  },
  {
   "cell_type": "code",
   "execution_count": 64,
   "metadata": {},
   "outputs": [],
   "source": [
    "from sklearn.metrics import classification_report"
   ]
  },
  {
   "cell_type": "code",
   "execution_count": 65,
   "metadata": {},
   "outputs": [
    {
     "name": "stdout",
     "output_type": "stream",
     "text": [
      "*************** Classification report on training set ********************\n",
      "              precision    recall  f1-score   support\n",
      "\n",
      "     class 0       0.91      1.00      0.95      7110\n",
      "     class 1       0.89      0.27      0.41       982\n",
      "\n",
      "    accuracy                           0.91      8092\n",
      "   macro avg       0.90      0.63      0.68      8092\n",
      "weighted avg       0.91      0.91      0.88      8092\n",
      "\n"
     ]
    }
   ],
   "source": [
    "target_names = ['class 0', 'class 1']\n",
    "print('*************** Classification report on training set ********************')\n",
    "print(classification_report(y_train, y_pred, target_names=target_names))"
   ]
  },
  {
   "cell_type": "code",
   "execution_count": 66,
   "metadata": {},
   "outputs": [
    {
     "name": "stdout",
     "output_type": "stream",
     "text": [
      "*************** Classification report on testing set ********************\n",
      "              precision    recall  f1-score   support\n",
      "\n",
      "     class 0       0.89      0.98      0.93      3514\n",
      "     class 1       0.43      0.11      0.18       473\n",
      "\n",
      "    accuracy                           0.88      3987\n",
      "   macro avg       0.66      0.55      0.55      3987\n",
      "weighted avg       0.84      0.88      0.84      3987\n",
      "\n"
     ]
    }
   ],
   "source": [
    "print('*************** Classification report on testing set ********************')\n",
    "print(classification_report(y_test, model.predict(X_test), target_names=target_names))"
   ]
  },
  {
   "cell_type": "code",
   "execution_count": 67,
   "metadata": {},
   "outputs": [
    {
     "name": "stdout",
     "output_type": "stream",
     "text": [
      "Learning rate set to 0.020582\n",
      "0:\tlearn: 0.6728092\ttotal: 10.3ms\tremaining: 15.5s\n",
      "50:\tlearn: 0.3461018\ttotal: 553ms\tremaining: 15.7s\n",
      "100:\tlearn: 0.3052124\ttotal: 1.18s\tremaining: 16.3s\n",
      "150:\tlearn: 0.2926312\ttotal: 1.73s\tremaining: 15.5s\n",
      "200:\tlearn: 0.2855235\ttotal: 2.31s\tremaining: 14.9s\n",
      "250:\tlearn: 0.2807451\ttotal: 2.89s\tremaining: 14.4s\n",
      "300:\tlearn: 0.2766880\ttotal: 3.47s\tremaining: 13.8s\n",
      "350:\tlearn: 0.2727538\ttotal: 4.16s\tremaining: 13.6s\n",
      "400:\tlearn: 0.2696790\ttotal: 4.88s\tremaining: 13.4s\n",
      "450:\tlearn: 0.2666123\ttotal: 5.51s\tremaining: 12.8s\n",
      "500:\tlearn: 0.2636836\ttotal: 6.3s\tremaining: 12.6s\n",
      "550:\tlearn: 0.2605370\ttotal: 7.11s\tremaining: 12.2s\n",
      "600:\tlearn: 0.2577399\ttotal: 7.6s\tremaining: 11.4s\n",
      "650:\tlearn: 0.2549318\ttotal: 8.13s\tremaining: 10.6s\n",
      "700:\tlearn: 0.2519807\ttotal: 8.62s\tremaining: 9.82s\n",
      "750:\tlearn: 0.2494307\ttotal: 9.15s\tremaining: 9.13s\n",
      "800:\tlearn: 0.2470183\ttotal: 9.79s\tremaining: 8.54s\n",
      "850:\tlearn: 0.2446981\ttotal: 10.4s\tremaining: 7.91s\n",
      "900:\tlearn: 0.2424215\ttotal: 11s\tremaining: 7.3s\n",
      "950:\tlearn: 0.2401396\ttotal: 11.6s\tremaining: 6.71s\n",
      "1000:\tlearn: 0.2376850\ttotal: 12.2s\tremaining: 6.1s\n",
      "1050:\tlearn: 0.2353593\ttotal: 13s\tremaining: 5.53s\n",
      "1100:\tlearn: 0.2332140\ttotal: 13.6s\tremaining: 4.93s\n",
      "1150:\tlearn: 0.2312502\ttotal: 14.2s\tremaining: 4.29s\n",
      "1200:\tlearn: 0.2293654\ttotal: 14.7s\tremaining: 3.67s\n",
      "1250:\tlearn: 0.2275425\ttotal: 15.3s\tremaining: 3.05s\n",
      "1300:\tlearn: 0.2257886\ttotal: 15.9s\tremaining: 2.43s\n",
      "1350:\tlearn: 0.2239221\ttotal: 16.5s\tremaining: 1.82s\n",
      "1400:\tlearn: 0.2223231\ttotal: 17.2s\tremaining: 1.22s\n",
      "1450:\tlearn: 0.2204685\ttotal: 17.8s\tremaining: 601ms\n",
      "1499:\tlearn: 0.2188145\ttotal: 18.3s\tremaining: 0us\n"
     ]
    },
    {
     "data": {
      "text/plain": [
       "<catboost.core.CatBoostClassifier at 0x57c268f748>"
      ]
     },
     "execution_count": 67,
     "metadata": {},
     "output_type": "execute_result"
    }
   ],
   "source": [
    "model.fit(X,y)"
   ]
  },
  {
   "cell_type": "code",
   "execution_count": 79,
   "metadata": {},
   "outputs": [],
   "source": [
    "# lemme run rgf\n",
    "\n",
    "# from rgf import RGFClassifier\n",
    "# rgf = RGFClassifier()\n",
    "# rgf.fit(X, y)\n",
    "\n",
    "# pred_rgf = rgf.predict(test_n)"
   ]
  },
  {
   "cell_type": "code",
   "execution_count": 82,
   "metadata": {},
   "outputs": [],
   "source": [
    "# lemme run xgboost\n",
    "\n",
    "from xgboost import XGBClassifier\n",
    "xgb = XGBClassifier()\n",
    "xgb.fit(X, y)\n",
    "\n",
    "pred_xgb = xgb.predict(test_n)"
   ]
  },
  {
   "cell_type": "code",
   "execution_count": 86,
   "metadata": {},
   "outputs": [],
   "source": [
    "# lemme try lightGBM\n",
    "\n",
    "from lightgbm import LGBMClassifier\n",
    "lgbm = LGBMClassifier()\n",
    "lgbm.fit(X, y)\n",
    "\n",
    "pred_lgbm = lgbm.predict(test_n)"
   ]
  },
  {
   "cell_type": "code",
   "execution_count": 362,
   "metadata": {},
   "outputs": [],
   "source": [
    "# lemme try random forest\n",
    "\n",
    "from sklearn.ensemble import RandomForestClassifier\n",
    "\n",
    "forest = RandomForestClassifier(n_estimators=250)\n",
    "forest.fit(X, y)\n",
    "\n",
    "pred_forest = forest.predict(test_n)"
   ]
  },
  {
   "cell_type": "code",
   "execution_count": 363,
   "metadata": {},
   "outputs": [],
   "source": [
    "from sklearn.ensemble import ExtraTreesClassifier\n",
    "\n",
    "xtc = ExtraTreesClassifier(n_estimators=250)\n",
    "xtc.fit(X, y)\n",
    "\n",
    "pred_xtc = xtc.predict(test_n)"
   ]
  },
  {
   "cell_type": "code",
   "execution_count": 168,
   "metadata": {},
   "outputs": [
    {
     "name": "stdout",
     "output_type": "stream",
     "text": [
      "Learning rate set to 0.020582\n",
      "0:\tlearn: 0.6728092\ttotal: 20.4ms\tremaining: 30.6s\n",
      "50:\tlearn: 0.3461018\ttotal: 520ms\tremaining: 14.8s\n",
      "100:\tlearn: 0.3052124\ttotal: 1.09s\tremaining: 15.1s\n",
      "150:\tlearn: 0.2926312\ttotal: 1.58s\tremaining: 14.1s\n",
      "200:\tlearn: 0.2855235\ttotal: 2.16s\tremaining: 14s\n",
      "250:\tlearn: 0.2807451\ttotal: 2.68s\tremaining: 13.3s\n",
      "300:\tlearn: 0.2766880\ttotal: 3.26s\tremaining: 13s\n",
      "350:\tlearn: 0.2727538\ttotal: 3.76s\tremaining: 12.3s\n",
      "400:\tlearn: 0.2696790\ttotal: 4.3s\tremaining: 11.8s\n",
      "450:\tlearn: 0.2666123\ttotal: 4.78s\tremaining: 11.1s\n",
      "500:\tlearn: 0.2636836\ttotal: 5.33s\tremaining: 10.6s\n",
      "550:\tlearn: 0.2605370\ttotal: 5.92s\tremaining: 10.2s\n",
      "600:\tlearn: 0.2577399\ttotal: 6.66s\tremaining: 9.96s\n",
      "650:\tlearn: 0.2549318\ttotal: 7.38s\tremaining: 9.62s\n",
      "700:\tlearn: 0.2519807\ttotal: 8.07s\tremaining: 9.19s\n",
      "750:\tlearn: 0.2494307\ttotal: 8.72s\tremaining: 8.7s\n",
      "800:\tlearn: 0.2470183\ttotal: 9.55s\tremaining: 8.34s\n",
      "850:\tlearn: 0.2446981\ttotal: 10.5s\tremaining: 7.99s\n",
      "900:\tlearn: 0.2424215\ttotal: 11.2s\tremaining: 7.45s\n",
      "950:\tlearn: 0.2401396\ttotal: 11.8s\tremaining: 6.8s\n",
      "1000:\tlearn: 0.2376850\ttotal: 12.4s\tremaining: 6.17s\n",
      "1050:\tlearn: 0.2353593\ttotal: 12.9s\tremaining: 5.5s\n",
      "1100:\tlearn: 0.2332140\ttotal: 13.5s\tremaining: 4.88s\n",
      "1150:\tlearn: 0.2312502\ttotal: 14s\tremaining: 4.25s\n",
      "1200:\tlearn: 0.2293654\ttotal: 14.6s\tremaining: 3.63s\n",
      "1250:\tlearn: 0.2275425\ttotal: 15.1s\tremaining: 3.01s\n",
      "1300:\tlearn: 0.2257886\ttotal: 15.7s\tremaining: 2.4s\n",
      "1350:\tlearn: 0.2239221\ttotal: 16.3s\tremaining: 1.79s\n",
      "1400:\tlearn: 0.2223231\ttotal: 16.8s\tremaining: 1.19s\n",
      "1450:\tlearn: 0.2204685\ttotal: 17.3s\tremaining: 585ms\n",
      "1499:\tlearn: 0.2188145\ttotal: 17.9s\tremaining: 0us\n",
      "Learning rate set to 0.018711\n",
      "0:\tlearn: 0.6738736\ttotal: 7.65ms\tremaining: 11.5s\n",
      "50:\tlearn: 0.3530862\ttotal: 381ms\tremaining: 10.8s\n",
      "100:\tlearn: 0.3066432\ttotal: 756ms\tremaining: 10.5s\n",
      "150:\tlearn: 0.2913191\ttotal: 1.1s\tremaining: 9.83s\n",
      "200:\tlearn: 0.2834001\ttotal: 1.42s\tremaining: 9.2s\n",
      "250:\tlearn: 0.2781619\ttotal: 1.78s\tremaining: 8.86s\n",
      "300:\tlearn: 0.2737878\ttotal: 2.1s\tremaining: 8.35s\n",
      "350:\tlearn: 0.2700762\ttotal: 2.49s\tremaining: 8.15s\n",
      "400:\tlearn: 0.2662234\ttotal: 2.9s\tremaining: 7.95s\n",
      "450:\tlearn: 0.2623884\ttotal: 3.21s\tremaining: 7.48s\n",
      "500:\tlearn: 0.2590896\ttotal: 3.53s\tremaining: 7.03s\n",
      "550:\tlearn: 0.2557190\ttotal: 3.99s\tremaining: 6.87s\n",
      "600:\tlearn: 0.2525952\ttotal: 4.32s\tremaining: 6.45s\n",
      "650:\tlearn: 0.2496087\ttotal: 4.69s\tremaining: 6.12s\n",
      "700:\tlearn: 0.2468937\ttotal: 5.1s\tremaining: 5.82s\n",
      "750:\tlearn: 0.2440927\ttotal: 5.48s\tremaining: 5.47s\n",
      "800:\tlearn: 0.2414465\ttotal: 5.8s\tremaining: 5.07s\n",
      "850:\tlearn: 0.2389618\ttotal: 6.25s\tremaining: 4.77s\n",
      "900:\tlearn: 0.2361880\ttotal: 6.57s\tremaining: 4.37s\n",
      "950:\tlearn: 0.2335299\ttotal: 6.89s\tremaining: 3.98s\n",
      "1000:\tlearn: 0.2308509\ttotal: 7.28s\tremaining: 3.63s\n",
      "1050:\tlearn: 0.2282712\ttotal: 7.66s\tremaining: 3.27s\n",
      "1100:\tlearn: 0.2262521\ttotal: 8.17s\tremaining: 2.96s\n",
      "1150:\tlearn: 0.2241256\ttotal: 8.62s\tremaining: 2.61s\n",
      "1200:\tlearn: 0.2220921\ttotal: 9.06s\tremaining: 2.26s\n",
      "1250:\tlearn: 0.2202126\ttotal: 9.46s\tremaining: 1.88s\n",
      "1300:\tlearn: 0.2183192\ttotal: 9.93s\tremaining: 1.52s\n",
      "1350:\tlearn: 0.2166799\ttotal: 10.5s\tremaining: 1.16s\n",
      "1400:\tlearn: 0.2149471\ttotal: 10.9s\tremaining: 769ms\n",
      "1450:\tlearn: 0.2132720\ttotal: 11.2s\tremaining: 378ms\n",
      "1499:\tlearn: 0.2117892\ttotal: 11.6s\tremaining: 0us\n",
      "Learning rate set to 0.018711\n",
      "0:\tlearn: 0.6748505\ttotal: 6.23ms\tremaining: 9.34s\n",
      "50:\tlearn: 0.3537210\ttotal: 314ms\tremaining: 8.92s\n",
      "100:\tlearn: 0.3107968\ttotal: 636ms\tremaining: 8.81s\n",
      "150:\tlearn: 0.2963126\ttotal: 1.02s\tremaining: 9.09s\n",
      "200:\tlearn: 0.2880696\ttotal: 1.36s\tremaining: 8.8s\n",
      "250:\tlearn: 0.2826062\ttotal: 1.76s\tremaining: 8.75s\n",
      "300:\tlearn: 0.2781992\ttotal: 2.19s\tremaining: 8.74s\n",
      "350:\tlearn: 0.2741726\ttotal: 2.55s\tremaining: 8.34s\n",
      "400:\tlearn: 0.2711438\ttotal: 2.97s\tremaining: 8.14s\n",
      "450:\tlearn: 0.2679226\ttotal: 3.29s\tremaining: 7.64s\n",
      "500:\tlearn: 0.2647603\ttotal: 3.6s\tremaining: 7.17s\n",
      "550:\tlearn: 0.2614581\ttotal: 4.06s\tremaining: 6.99s\n",
      "600:\tlearn: 0.2584353\ttotal: 4.46s\tremaining: 6.67s\n",
      "650:\tlearn: 0.2555736\ttotal: 4.79s\tremaining: 6.25s\n",
      "700:\tlearn: 0.2523879\ttotal: 5.15s\tremaining: 5.87s\n",
      "750:\tlearn: 0.2489589\ttotal: 5.54s\tremaining: 5.53s\n",
      "800:\tlearn: 0.2459677\ttotal: 5.86s\tremaining: 5.11s\n",
      "850:\tlearn: 0.2434947\ttotal: 6.21s\tremaining: 4.74s\n",
      "900:\tlearn: 0.2411198\ttotal: 6.52s\tremaining: 4.33s\n",
      "950:\tlearn: 0.2382775\ttotal: 6.83s\tremaining: 3.94s\n",
      "1000:\tlearn: 0.2357335\ttotal: 7.16s\tremaining: 3.57s\n",
      "1050:\tlearn: 0.2334509\ttotal: 7.51s\tremaining: 3.21s\n",
      "1100:\tlearn: 0.2310803\ttotal: 7.82s\tremaining: 2.83s\n",
      "1150:\tlearn: 0.2285274\ttotal: 8.14s\tremaining: 2.47s\n",
      "1200:\tlearn: 0.2262070\ttotal: 8.5s\tremaining: 2.12s\n",
      "1250:\tlearn: 0.2243065\ttotal: 8.8s\tremaining: 1.75s\n",
      "1300:\tlearn: 0.2220638\ttotal: 9.15s\tremaining: 1.4s\n",
      "1350:\tlearn: 0.2201295\ttotal: 9.54s\tremaining: 1.05s\n",
      "1400:\tlearn: 0.2182738\ttotal: 9.85s\tremaining: 696ms\n",
      "1450:\tlearn: 0.2161773\ttotal: 10.2s\tremaining: 343ms\n",
      "1499:\tlearn: 0.2143339\ttotal: 10.5s\tremaining: 0us\n",
      "Learning rate set to 0.018711\n",
      "0:\tlearn: 0.6742043\ttotal: 6.3ms\tremaining: 9.44s\n",
      "50:\tlearn: 0.3535360\ttotal: 304ms\tremaining: 8.63s\n",
      "100:\tlearn: 0.3099855\ttotal: 604ms\tremaining: 8.37s\n",
      "150:\tlearn: 0.2953350\ttotal: 965ms\tremaining: 8.63s\n",
      "200:\tlearn: 0.2861378\ttotal: 1.27s\tremaining: 8.22s\n",
      "250:\tlearn: 0.2803889\ttotal: 1.64s\tremaining: 8.16s\n",
      "300:\tlearn: 0.2764423\ttotal: 2.11s\tremaining: 8.42s\n",
      "350:\tlearn: 0.2728899\ttotal: 2.51s\tremaining: 8.22s\n",
      "400:\tlearn: 0.2694102\ttotal: 2.86s\tremaining: 7.85s\n",
      "450:\tlearn: 0.2663401\ttotal: 3.3s\tremaining: 7.67s\n",
      "500:\tlearn: 0.2632075\ttotal: 3.64s\tremaining: 7.26s\n",
      "550:\tlearn: 0.2599540\ttotal: 3.95s\tremaining: 6.81s\n",
      "600:\tlearn: 0.2580256\ttotal: 4.31s\tremaining: 6.45s\n",
      "650:\tlearn: 0.2556254\ttotal: 4.62s\tremaining: 6.02s\n",
      "700:\tlearn: 0.2529138\ttotal: 4.92s\tremaining: 5.61s\n",
      "750:\tlearn: 0.2504851\ttotal: 5.27s\tremaining: 5.25s\n",
      "800:\tlearn: 0.2477633\ttotal: 5.59s\tremaining: 4.88s\n",
      "850:\tlearn: 0.2454919\ttotal: 5.9s\tremaining: 4.5s\n",
      "900:\tlearn: 0.2428804\ttotal: 6.21s\tremaining: 4.13s\n",
      "950:\tlearn: 0.2401210\ttotal: 6.57s\tremaining: 3.79s\n",
      "1000:\tlearn: 0.2374180\ttotal: 6.88s\tremaining: 3.43s\n",
      "1050:\tlearn: 0.2350824\ttotal: 7.19s\tremaining: 3.07s\n",
      "1100:\tlearn: 0.2323181\ttotal: 7.62s\tremaining: 2.76s\n",
      "1150:\tlearn: 0.2296175\ttotal: 7.95s\tremaining: 2.41s\n",
      "1200:\tlearn: 0.2274855\ttotal: 8.29s\tremaining: 2.06s\n",
      "1250:\tlearn: 0.2251415\ttotal: 8.72s\tremaining: 1.74s\n",
      "1300:\tlearn: 0.2231835\ttotal: 9.05s\tremaining: 1.38s\n",
      "1350:\tlearn: 0.2213168\ttotal: 9.45s\tremaining: 1.04s\n",
      "1400:\tlearn: 0.2193159\ttotal: 9.82s\tremaining: 694ms\n",
      "1450:\tlearn: 0.2173021\ttotal: 10.1s\tremaining: 343ms\n",
      "1499:\tlearn: 0.2153731\ttotal: 10.5s\tremaining: 0us\n",
      "Learning rate set to 0.018711\n",
      "0:\tlearn: 0.6745268\ttotal: 6.4ms\tremaining: 9.6s\n",
      "50:\tlearn: 0.3499659\ttotal: 359ms\tremaining: 10.2s\n",
      "100:\tlearn: 0.3089160\ttotal: 668ms\tremaining: 9.25s\n",
      "150:\tlearn: 0.2946121\ttotal: 998ms\tremaining: 8.91s\n",
      "200:\tlearn: 0.2869832\ttotal: 1.35s\tremaining: 8.76s\n",
      "250:\tlearn: 0.2810337\ttotal: 1.67s\tremaining: 8.32s\n",
      "300:\tlearn: 0.2769022\ttotal: 1.97s\tremaining: 7.86s\n",
      "350:\tlearn: 0.2729722\ttotal: 2.34s\tremaining: 7.65s\n",
      "400:\tlearn: 0.2691214\ttotal: 2.67s\tremaining: 7.31s\n",
      "450:\tlearn: 0.2655790\ttotal: 3.04s\tremaining: 7.08s\n",
      "500:\tlearn: 0.2624912\ttotal: 3.61s\tremaining: 7.21s\n",
      "550:\tlearn: 0.2592901\ttotal: 3.94s\tremaining: 6.79s\n",
      "600:\tlearn: 0.2564720\ttotal: 4.28s\tremaining: 6.4s\n",
      "650:\tlearn: 0.2533304\ttotal: 4.65s\tremaining: 6.07s\n",
      "700:\tlearn: 0.2498242\ttotal: 5.06s\tremaining: 5.77s\n",
      "750:\tlearn: 0.2464383\ttotal: 5.41s\tremaining: 5.4s\n",
      "800:\tlearn: 0.2434351\ttotal: 5.76s\tremaining: 5.02s\n",
      "850:\tlearn: 0.2410864\ttotal: 6.14s\tremaining: 4.68s\n",
      "900:\tlearn: 0.2389316\ttotal: 6.45s\tremaining: 4.29s\n",
      "950:\tlearn: 0.2365515\ttotal: 6.87s\tremaining: 3.96s\n",
      "1000:\tlearn: 0.2342382\ttotal: 7.31s\tremaining: 3.64s\n",
      "1050:\tlearn: 0.2318609\ttotal: 7.77s\tremaining: 3.32s\n",
      "1100:\tlearn: 0.2293209\ttotal: 8.14s\tremaining: 2.95s\n",
      "1150:\tlearn: 0.2269899\ttotal: 8.46s\tremaining: 2.56s\n",
      "1200:\tlearn: 0.2249144\ttotal: 8.81s\tremaining: 2.19s\n",
      "1250:\tlearn: 0.2227352\ttotal: 9.12s\tremaining: 1.81s\n",
      "1300:\tlearn: 0.2206238\ttotal: 9.43s\tremaining: 1.44s\n",
      "1350:\tlearn: 0.2187751\ttotal: 9.78s\tremaining: 1.08s\n",
      "1400:\tlearn: 0.2169867\ttotal: 10.1s\tremaining: 713ms\n",
      "1450:\tlearn: 0.2151748\ttotal: 10.4s\tremaining: 352ms\n",
      "1499:\tlearn: 0.2135462\ttotal: 10.7s\tremaining: 0us\n",
      "Learning rate set to 0.018712\n",
      "0:\tlearn: 0.6744409\ttotal: 8.36ms\tremaining: 12.5s\n"
     ]
    },
    {
     "name": "stdout",
     "output_type": "stream",
     "text": [
      "50:\tlearn: 0.3533329\ttotal: 452ms\tremaining: 12.9s\n",
      "100:\tlearn: 0.3081144\ttotal: 795ms\tremaining: 11s\n",
      "150:\tlearn: 0.2931350\ttotal: 1.22s\tremaining: 10.9s\n",
      "200:\tlearn: 0.2848785\ttotal: 1.64s\tremaining: 10.6s\n",
      "250:\tlearn: 0.2803400\ttotal: 2.03s\tremaining: 10.1s\n",
      "300:\tlearn: 0.2759849\ttotal: 2.42s\tremaining: 9.63s\n",
      "350:\tlearn: 0.2722708\ttotal: 2.74s\tremaining: 8.96s\n",
      "400:\tlearn: 0.2688170\ttotal: 3.06s\tremaining: 8.39s\n",
      "450:\tlearn: 0.2650739\ttotal: 3.54s\tremaining: 8.24s\n",
      "500:\tlearn: 0.2618739\ttotal: 3.89s\tremaining: 7.76s\n",
      "550:\tlearn: 0.2588992\ttotal: 4.23s\tremaining: 7.29s\n",
      "600:\tlearn: 0.2558145\ttotal: 4.82s\tremaining: 7.2s\n",
      "650:\tlearn: 0.2528255\ttotal: 5.36s\tremaining: 6.98s\n",
      "700:\tlearn: 0.2498028\ttotal: 5.74s\tremaining: 6.55s\n",
      "750:\tlearn: 0.2469895\ttotal: 6.09s\tremaining: 6.08s\n",
      "800:\tlearn: 0.2442186\ttotal: 6.42s\tremaining: 5.6s\n",
      "850:\tlearn: 0.2419410\ttotal: 6.83s\tremaining: 5.21s\n",
      "900:\tlearn: 0.2395093\ttotal: 7.15s\tremaining: 4.75s\n",
      "950:\tlearn: 0.2371115\ttotal: 7.5s\tremaining: 4.33s\n",
      "1000:\tlearn: 0.2343469\ttotal: 7.89s\tremaining: 3.94s\n",
      "1050:\tlearn: 0.2321920\ttotal: 8.24s\tremaining: 3.52s\n",
      "1100:\tlearn: 0.2300844\ttotal: 8.8s\tremaining: 3.19s\n",
      "1150:\tlearn: 0.2281013\ttotal: 9.15s\tremaining: 2.77s\n",
      "1200:\tlearn: 0.2263035\ttotal: 9.52s\tremaining: 2.37s\n",
      "1250:\tlearn: 0.2241256\ttotal: 9.9s\tremaining: 1.97s\n",
      "1300:\tlearn: 0.2219064\ttotal: 10.3s\tremaining: 1.57s\n",
      "1350:\tlearn: 0.2199301\ttotal: 10.6s\tremaining: 1.17s\n",
      "1400:\tlearn: 0.2178513\ttotal: 11.1s\tremaining: 781ms\n",
      "1450:\tlearn: 0.2159264\ttotal: 11.4s\tremaining: 385ms\n",
      "1499:\tlearn: 0.2139341\ttotal: 12s\tremaining: 0us\n"
     ]
    }
   ],
   "source": [
    "from sklearn.ensemble import StackingClassifier\n",
    "from sklearn.linear_model import LogisticRegression\n",
    "\n",
    "stack = StackingClassifier(estimators=estimator, final_estimator=LogisticRegression())\n",
    "stack.fit(X, y)\n",
    "\n",
    "stack_pred = stack.predict(test_n)"
   ]
  },
  {
   "cell_type": "markdown",
   "metadata": {},
   "source": [
    "## Create submission file"
   ]
  },
  {
   "cell_type": "code",
   "execution_count": 68,
   "metadata": {},
   "outputs": [
    {
     "data": {
      "text/plain": [
       "{True}"
      ]
     },
     "execution_count": 68,
     "metadata": {},
     "output_type": "execute_result"
    }
   ],
   "source": [
    "set(test.ID == ss.ID)"
   ]
  },
  {
   "cell_type": "code",
   "execution_count": 75,
   "metadata": {},
   "outputs": [],
   "source": [
    "prediction = model.predict(test_n)"
   ]
  },
  {
   "cell_type": "code",
   "execution_count": 72,
   "metadata": {},
   "outputs": [],
   "source": [
    "sub_file = ss.copy()"
   ]
  },
  {
   "cell_type": "code",
   "execution_count": 77,
   "metadata": {},
   "outputs": [],
   "source": [
    "sub_file.target = prediction"
   ]
  },
  {
   "cell_type": "code",
   "execution_count": 345,
   "metadata": {},
   "outputs": [],
   "source": [
    "# thresh = 0.5\n",
    "# vote_pred[vote_pred < 0.5] = 0\n",
    "# vote_pred[vote_pred >= 0.5] = 1\n",
    "\n",
    "def map_thresh(arr):\n",
    "    arr[arr < 0.5] = 0\n",
    "    arr[arr >= 0.5] = 1\n",
    "    return arr"
   ]
  },
  {
   "cell_type": "code",
   "execution_count": null,
   "metadata": {},
   "outputs": [],
   "source": []
  },
  {
   "cell_type": "code",
   "execution_count": 360,
   "metadata": {},
   "outputs": [],
   "source": [
    "# sub_file.target = pred_rgf\n",
    "# sub_file.target = pred_xgb\n",
    "# sub_file.target = pred_lgbm\n",
    "# sub_file.target = pred_forest\n",
    "\n",
    "        \n",
    "        \n",
    "sub_file.target = map_thresh(vote_pred)\n",
    "\n",
    "# sub_file.target = bag_pred\n",
    "# sub_file.target = combined_pred\n",
    "# sub_file.target = pred_gbc\n",
    "# sub_file.target = stack_pred\n",
    "# sub_file.target = pred_xtc\n",
    "# sub_file.target = map_thresh(final_pred)\n"
   ]
  },
  {
   "cell_type": "code",
   "execution_count": 361,
   "metadata": {},
   "outputs": [],
   "source": [
    "sub_file.to_csv('012_final_skf_vote_pred_no_xgb.csv',index=False)"
   ]
  },
  {
   "cell_type": "markdown",
   "metadata": {},
   "source": [
    "## Now i will make a voting classier"
   ]
  },
  {
   "cell_type": "code",
   "execution_count": 364,
   "metadata": {
    "scrolled": true
   },
   "outputs": [],
   "source": [
    "from sklearn.ensemble import VotingClassifier, BaggingClassifier\n",
    "\n",
    "estimator = []\n",
    "estimator.append(('forest', forest))\n",
    "estimator.append(('xtc', xtc))\n",
    "# estimator.append(('xgb', xgb))\n",
    "# estimator.append(('model', model))\n",
    "\n",
    "\n",
    "vot_hard = VotingClassifier(estimators = estimator, voting ='soft', weights=[7, 2])\n",
    "pipe = Pipeline([(\"SC\", MinMaxScaler()), (\"clf\", vot_hard)])\n",
    "pipe.fit(X, y) \n",
    "vote_pred = pipe.predict_proba(test_n)[:,1]"
   ]
  },
  {
   "cell_type": "code",
   "execution_count": 366,
   "metadata": {
    "scrolled": true
   },
   "outputs": [
    {
     "name": "stdout",
     "output_type": "stream",
     "text": [
      "Number of splits left 50 to train.\n",
      "0.15\n",
      "Number of splits left 49 to train.\n",
      "0.15\n",
      "Number of splits left 48 to train.\n",
      "0.15\n",
      "Number of splits left 47 to train.\n",
      "0.15\n",
      "Number of splits left 46 to train.\n",
      "0.15\n",
      "Number of splits left 45 to train.\n",
      "0.15\n",
      "Number of splits left 44 to train.\n",
      "0.15\n",
      "Number of splits left 43 to train.\n",
      "0.15\n",
      "Number of splits left 42 to train.\n",
      "0.15\n",
      "Number of splits left 41 to train.\n",
      "0.15\n",
      "Number of splits left 40 to train.\n",
      "0.15\n",
      "Number of splits left 39 to train.\n",
      "0.15\n",
      "Number of splits left 38 to train.\n",
      "0.15\n",
      "Number of splits left 37 to train.\n",
      "0.15\n",
      "Number of splits left 36 to train.\n",
      "0.15\n",
      "Number of splits left 35 to train.\n",
      "0.15\n",
      "Number of splits left 34 to train.\n",
      "0.15\n",
      "Number of splits left 33 to train.\n",
      "0.15\n",
      "Number of splits left 32 to train.\n",
      "0.15\n",
      "Number of splits left 31 to train.\n",
      "0.15\n",
      "Number of splits left 30 to train.\n",
      "0.15\n",
      "Number of splits left 29 to train.\n",
      "0.15\n",
      "Number of splits left 28 to train.\n",
      "0.15\n",
      "Number of splits left 27 to train.\n",
      "0.15\n",
      "Number of splits left 26 to train.\n",
      "0.15\n",
      "Number of splits left 25 to train.\n",
      "0.15\n",
      "Number of splits left 24 to train.\n",
      "0.15\n",
      "Number of splits left 23 to train.\n",
      "0.15\n",
      "Number of splits left 22 to train.\n",
      "0.15\n",
      "Number of splits left 21 to train.\n",
      "0.15\n",
      "Number of splits left 20 to train.\n",
      "0.15\n",
      "Number of splits left 19 to train.\n",
      "0.15\n",
      "Number of splits left 18 to train.\n",
      "0.15\n",
      "Number of splits left 17 to train.\n",
      "0.15\n",
      "Number of splits left 16 to train.\n",
      "0.15\n",
      "Number of splits left 15 to train.\n",
      "0.15\n",
      "Number of splits left 14 to train.\n",
      "0.15\n",
      "Number of splits left 13 to train.\n",
      "0.15\n",
      "Number of splits left 12 to train.\n",
      "0.15\n",
      "Number of splits left 11 to train.\n",
      "0.15\n",
      "Number of splits left 10 to train.\n",
      "0.15\n",
      "Number of splits left 9 to train.\n",
      "0.15\n",
      "Number of splits left 8 to train.\n",
      "0.15\n",
      "Number of splits left 7 to train.\n",
      "0.15\n",
      "Number of splits left 6 to train.\n",
      "0.15\n",
      "Number of splits left 5 to train.\n",
      "0.15\n",
      "Number of splits left 4 to train.\n",
      "0.15\n",
      "Number of splits left 3 to train.\n",
      "0.15\n",
      "Number of splits left 2 to train.\n",
      "0.15\n",
      "Number of splits left 1 to train.\n",
      "0.15\n"
     ]
    },
    {
     "name": "stderr",
     "output_type": "stream",
     "text": [
      "C:\\Users\\USER\\anaconda3\\lib\\site-packages\\numpy\\core\\fromnumeric.py:3335: RuntimeWarning: Mean of empty slice.\n",
      "  out=out, **kwargs)\n",
      "C:\\Users\\USER\\anaconda3\\lib\\site-packages\\numpy\\core\\_methods.py:161: RuntimeWarning: invalid value encountered in double_scalars\n",
      "  ret = ret.dtype.type(ret / rcount)\n"
     ]
    },
    {
     "data": {
      "text/plain": [
       "nan"
      ]
     },
     "execution_count": 366,
     "metadata": {},
     "output_type": "execute_result"
    }
   ],
   "source": [
    "# stratified kfold prediction\n",
    "from sklearn.metrics import f1_score\n",
    "from sklearn.model_selection import StratifiedKFold\n",
    "from sklearn.pipeline import Pipeline\n",
    "from sklearn.preprocessing import StandardScaler, MinMaxScaler\n",
    "\n",
    "preds, scores = [], []\n",
    "\n",
    "skf = StratifiedKFold(n_splits=50, shuffle=True, random_state=450) \n",
    " \n",
    "i = 50\n",
    "for train_index, test_index in skf.split(X, y):\n",
    "    print(\"Number of splits left {0} to train.\".format(i))\n",
    "    x_train, x_test, y_train, y_test = X.iloc[train_index], X.iloc[test_index], y.iloc[train_index], y.iloc[test_index]\n",
    "    pipe = Pipeline([(\"SC\", MinMaxScaler()), (\"clf\", vot_hard)])\n",
    "    pipe.fit(x_train, y_train)\n",
    "#     score = f1_score(y_test, pipe.predict_proba(x_test)[:,1])\n",
    "#     scores.append(score) \n",
    "    pred = pipe.predict_proba(test_n)[:,1]\n",
    "    preds.append(pred)\n",
    "    print(score)\n",
    "    i -= 1\n",
    " \n",
    "np.mean(scores)"
   ]
  },
  {
   "cell_type": "code",
   "execution_count": 319,
   "metadata": {},
   "outputs": [],
   "source": [
    "\n",
    "preds1 = preds.copy()\n",
    "preds1_df = pd.DataFrame(preds1).T\n",
    "final_pred = preds1_df.mean(axis=1)"
   ]
  },
  {
   "cell_type": "code",
   "execution_count": 222,
   "metadata": {},
   "outputs": [],
   "source": [
    "preds_df = pd.DataFrame(preds).T\n",
    "\n",
    "preds_df.head()\n",
    "preds_df.drop([0, 1, 2, 3, 4, 5, 6, 7,], axis=1, inplace=True)"
   ]
  },
  {
   "cell_type": "code",
   "execution_count": 223,
   "metadata": {},
   "outputs": [],
   "source": [
    "lr = LogisticRegression()\n",
    "lr.fit(preds_df, y)\n",
    "\n",
    "lr_pred = lr.predict(test_n)"
   ]
  },
  {
   "cell_type": "code",
   "execution_count": 224,
   "metadata": {},
   "outputs": [
    {
     "data": {
      "text/plain": [
       "(12079, 22)"
      ]
     },
     "execution_count": 224,
     "metadata": {},
     "output_type": "execute_result"
    }
   ],
   "source": [
    "preds_df.shape"
   ]
  },
  {
   "cell_type": "code",
   "execution_count": 225,
   "metadata": {},
   "outputs": [
    {
     "data": {
      "text/plain": [
       "(12079,)"
      ]
     },
     "execution_count": 225,
     "metadata": {},
     "output_type": "execute_result"
    }
   ],
   "source": [
    "y.shape"
   ]
  },
  {
   "cell_type": "code",
   "execution_count": 226,
   "metadata": {},
   "outputs": [
    {
     "data": {
      "text/plain": [
       "(5177, 22)"
      ]
     },
     "execution_count": 226,
     "metadata": {},
     "output_type": "execute_result"
    }
   ],
   "source": [
    "test_n.shape"
   ]
  },
  {
   "cell_type": "code",
   "execution_count": null,
   "metadata": {},
   "outputs": [],
   "source": []
  }
 ],
 "metadata": {
  "kernelspec": {
   "display_name": "Python 3",
   "language": "python",
   "name": "python3"
  },
  "language_info": {
   "codemirror_mode": {
    "name": "ipython",
    "version": 3
   },
   "file_extension": ".py",
   "mimetype": "text/x-python",
   "name": "python",
   "nbconvert_exporter": "python",
   "pygments_lexer": "ipython3",
   "version": "3.7.6"
  }
 },
 "nbformat": 4,
 "nbformat_minor": 4
}
